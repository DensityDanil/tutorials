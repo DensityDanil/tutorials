{
  "nbformat": 4,
  "nbformat_minor": 0,
  "metadata": {
    "colab": {
      "name": "4.1 Условный оператор if. Конструкция if-else .ipynb",
      "provenance": [],
      "collapsed_sections": [],
      "toc_visible": true,
      "authorship_tag": "ABX9TyOCuxW09lgZ5QAZD0GaKgn1",
      "include_colab_link": true
    },
    "kernelspec": {
      "name": "python3",
      "display_name": "Python 3"
    },
    "language_info": {
      "name": "python"
    }
  },
  "cells": [
    {
      "cell_type": "markdown",
      "metadata": {
        "id": "view-in-github",
        "colab_type": "text"
      },
      "source": [
        "<a href=\"https://colab.research.google.com/github/DensityDanil/tutorials/blob/main/4_1_%D0%A3%D1%81%D0%BB%D0%BE%D0%B2%D0%BD%D1%8B%D0%B9_%D0%BE%D0%BF%D0%B5%D1%80%D0%B0%D1%82%D0%BE%D1%80_if_%D0%9A%D0%BE%D0%BD%D1%81%D1%82%D1%80%D1%83%D0%BA%D1%86%D0%B8%D1%8F_if_else_.ipynb\" target=\"_parent\"><img src=\"https://colab.research.google.com/assets/colab-badge.svg\" alt=\"Open In Colab\"/></a>"
      ]
    },
    {
      "cell_type": "markdown",
      "source": [
        "#2 palindrome_word"
      ],
      "metadata": {
        "id": "V-hm3XPCxg8W"
      }
    },
    {
      "cell_type": "code",
      "source": [
        "#https://stepik.org/lesson/567034/step/3?unit=561308\n",
        "\n",
        "#Подвиг 2. Вводится слово. \n",
        "#Необходимо определить, является ли это слово палиндромом \n",
        "#(одинаково читается вперед и назад, например, АННА). \n",
        "#Регистр букв не учитывать. \n",
        "#Если введенное слово палиндром, на экран вывести ДА, иначе - НЕТ.\n",
        "\n",
        "test=['Шалаш'] #TODO generate all possible palindromes of n languages\n",
        "\n",
        "def palindrome_word(s):\n",
        "  s=str(s)\n",
        "  if s[::1].lower()==s[::-1].lower():\n",
        "    print('ДА')\n",
        "  else:\n",
        "    print('НЕТ')\n",
        "\n",
        "for s in test:\n",
        "  print(palindrome_word(s))\n"
      ],
      "metadata": {
        "colab": {
          "base_uri": "https://localhost:8080/"
        },
        "id": "oy1BWPhqxgu_",
        "outputId": "cf1d77c0-18c8-494e-f14d-c1f5d959478d"
      },
      "execution_count": 12,
      "outputs": [
        {
          "output_type": "stream",
          "name": "stdout",
          "text": [
            "ДА\n",
            "None\n"
          ]
        }
      ]
    },
    {
      "cell_type": "markdown",
      "source": [
        "#4 right_triangle_sides"
      ],
      "metadata": {
        "id": "oHrQXz96wBsa"
      }
    },
    {
      "cell_type": "code",
      "source": [
        "#https://stepik.org/lesson/567034/step/5?unit=561308\n",
        "\n",
        "#Подвиг 4. Вводятся три целых положительных числа в одну строку через пробел. \n",
        "#Убедиться, что первые два числа - это катеты прямоугольного треугольника, а третье - его гипотенуза. \n",
        "#(Подсказка: проверка делается по теореме Пифагора ). \n",
        "#Если проверка проходит (истинна), то вывести на экран ДА, иначе - НЕТ.\n",
        "\n",
        "# put your python code here\n",
        "\n",
        "first, second,third = map(int, input().split()) \n",
        "\n",
        "if first**2+second**2==third**2:\n",
        "  print('ДА'),\n",
        "else:\n",
        "  print('НЕТ')\n",
        "\n"
      ],
      "metadata": {
        "id": "qK0YZ8e_wBkx"
      },
      "execution_count": null,
      "outputs": []
    },
    {
      "cell_type": "markdown",
      "source": [
        "#8 is_message_size_fit_envelope"
      ],
      "metadata": {
        "id": "J35oC5zHvKat"
      }
    },
    {
      "cell_type": "code",
      "source": [
        "%%time\n",
        "#https://stepik.org/lesson/567034/step/9?unit=561308\n",
        "#Подвиг 8. Вводятся четыре целых числа a, b, c, d в одну строку через пробел. \n",
        "#Определить, войдет ли в конверт с внутренними размерами a и b мм прямоугольная открытка с размерами с и d мм. \n",
        "#Для размещения открытки в конверте необходим зазор в 1 мм с каждой стороны. \n",
        "#Открытку можно поворачивать на 90 градусов. Вывести ДА, если входит и НЕТ - если не входит.\n",
        "\n",
        "sizes = list( map(int, input().split()) )\n",
        "\n",
        "evenlope_height=sizes[0]\n",
        "evenlope_width=sizes[1]\n",
        "\n",
        "message_height=sizes[2]\n",
        "message_width=sizes[3]\n",
        "\n",
        "statement1=( evenlope_height-message_height>=2 ) and ( evenlope_width-message_width>=2 )\n",
        "statement2=( sizes[0]-sizes[3]>=2 ) and ( sizes[1]-sizes[2]>=2 )\n",
        "\n",
        "if statement1 or statement2:\n",
        "  print('ДА')\n",
        "else:\n",
        "  print('НЕТ')"
      ],
      "metadata": {
        "colab": {
          "base_uri": "https://localhost:8080/"
        },
        "id": "ayjB1EpkvHoE",
        "outputId": "3ecc09d2-7505-4456-fa18-907343d6f900"
      },
      "execution_count": 5,
      "outputs": [
        {
          "output_type": "stream",
          "name": "stdout",
          "text": [
            "12 5 2 5\n",
            "ДА\n",
            "CPU times: user 34.3 ms, sys: 0 ns, total: 34.3 ms\n",
            "Wall time: 5.19 s\n"
          ]
        }
      ]
    },
    {
      "cell_type": "markdown",
      "source": [
        "#10 when_time_is_then_traffic_light_interval_will_be"
      ],
      "metadata": {
        "id": "euzINWp5ur49"
      }
    },
    {
      "cell_type": "code",
      "execution_count": 2,
      "metadata": {
        "colab": {
          "base_uri": "https://localhost:8080/"
        },
        "id": "UBxevkJdun7h",
        "outputId": "5f4bb2da-7c1c-4982-e15f-79bc8b07e1c6"
      },
      "outputs": [
        {
          "output_type": "stream",
          "name": "stdout",
          "text": [
            "12.5\n",
            "green\n",
            "CPU times: user 60.6 ms, sys: 1.89 ms, total: 62.5 ms\n",
            "Wall time: 2.49 s\n"
          ]
        }
      ],
      "source": [
        "%%time\n",
        "#https://stepik.org/lesson/567034/step/11?unit=561308\n",
        "#Подвиг 10. Работа светофора для пешеходов запрограммирована следующим образом: \n",
        "#в начале каждого часа в течение трех минут горит зеленый сигнал, \n",
        "#затем в течение двух минут – красный, в течение трех минут – опять зеленый и т. д. \n",
        "#Дано вещественное число t, означающее время в минутах, прошедшее с начала очередного часа. Определить, сигнал какого цвета горит для пешеходов в этот момент. \n",
        "#На экран вывести сообщение (без кавычек) \"green\" - для зеленого и \"red\" - для красного.\n",
        "\n",
        "second=float(input())\n",
        "min=int(str(second).split('.')[0])*60\n",
        "sec=float('0.'+str(second).split('.')[1])*60\n",
        "sec=min+sec\n",
        "sec = int(sec)\n",
        "when=sec\n",
        "red_intervals=['red']*120\n",
        "green_intervals = ['green']*180\n",
        "#[1,2,3]+[4,5,6]\n",
        "intervals = green_intervals+red_intervals\n",
        "\n",
        "limit = intervals*when\n",
        "for i in range( len(limit) ): \n",
        "  cur=limit[i]\n",
        "  if i==when:\n",
        "    print(cur)"
      ]
    }
  ]
}
