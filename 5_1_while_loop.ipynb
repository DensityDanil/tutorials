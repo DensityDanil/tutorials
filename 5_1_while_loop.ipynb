{
  "nbformat": 4,
  "nbformat_minor": 0,
  "metadata": {
    "colab": {
      "name": "5_1 while_loop.ipynb",
      "provenance": [],
      "collapsed_sections": [],
      "toc_visible": true,
      "authorship_tag": "ABX9TyNRTBrzc3dO2UFWJru8lnwT",
      "include_colab_link": true
    },
    "kernelspec": {
      "name": "python3",
      "display_name": "Python 3"
    },
    "language_info": {
      "name": "python"
    }
  },
  "cells": [
    {
      "cell_type": "markdown",
      "metadata": {
        "id": "view-in-github",
        "colab_type": "text"
      },
      "source": [
        "<a href=\"https://colab.research.google.com/github/DensityDanil/tutorials/blob/main/5_1_while_loop.ipynb\" target=\"_parent\"><img src=\"https://colab.research.google.com/assets/colab-badge.svg\" alt=\"Open In Colab\"/></a>"
      ]
    },
    {
      "cell_type": "markdown",
      "source": [
        "#2"
      ],
      "metadata": {
        "id": "0ffTbIQSV_Xa"
      }
    },
    {
      "cell_type": "code",
      "execution_count": null,
      "metadata": {
        "id": "cFqcQ7dxV32W"
      },
      "outputs": [],
      "source": [
        "# https://stepik.org/lesson/567037/step/3?unit=561311\n",
        "\n",
        "#Подвиг 2. Вводятся два целых положительных числа n и m, причем, n < m. \n",
        "#Вывести в строку через пробел квадраты целых чисел в диапазоне [n; m]. \n",
        "#Программу реализовать при помощи цикла while.\n",
        "\n",
        "def quadratic_sequence_from_low_to_highest():\n",
        "  numbers=list( map ( int,input().split(' ') ) )\n",
        "  i=numbers[0]\n",
        "  while i<=numbers[-1]:\n",
        "      print(i**2,end=' ')\n",
        "      i+=1"
      ]
    },
    {
      "cell_type": "markdown",
      "source": [
        "#3"
      ],
      "metadata": {
        "id": "-7bVY7KQdx4f"
      }
    },
    {
      "cell_type": "code",
      "source": [
        "#https://stepik.org/lesson/567037/step/4?unit=561311\n",
        "\n",
        "#вывести на экран в строчку через пробел стоимости 2, 3, ... 10 таких книг \n",
        "#с точностью до десятых. \n",
        "#Программу реализовать при помощи цикла while.\n",
        "\n",
        "# put your python code here\n",
        "price = float(input())\n",
        "\n",
        "amount=1\n",
        "limit=10\n",
        "while amount<limit:\n",
        "    amount+=1\n",
        "    price_amount=price*amount\n",
        "    print(round(price_amount,1),end=' ')\n"
      ],
      "metadata": {
        "id": "su3dDIxDdxtH"
      },
      "execution_count": null,
      "outputs": []
    },
    {
      "cell_type": "markdown",
      "source": [
        "#4 divided_int_with_1_sequence_sum"
      ],
      "metadata": {
        "id": "rQFujCWQdhvq"
      }
    },
    {
      "cell_type": "code",
      "source": [
        "#https://stepik.org/lesson/567037/step/5?unit=561311\n",
        "\n",
        "#Подвиг 4. Вводится целое положительное число n. \n",
        "#Вычислить и вывести на экран сумму: 1 + 1/2 + 1/3 + ... + 1/n с точностью до тысячных \n",
        "#(три знака после запятой). \n",
        "#Программу реализовать при помощи цикла while.\n",
        "\n",
        "def divided_int_with_1_sequence_sum():\n",
        "  price = int(input())\n",
        "  amount=1\n",
        "  total=0\n",
        "  while amount<price+1:\n",
        "      value=1/amount\n",
        "      amount+=1\n",
        "      #total+=float(f\"{value:.3f}\")\n",
        "      total+=value\n",
        "  print(round(total,3)) #tip round \n",
        "\n"
      ],
      "metadata": {
        "id": "s4c6qhLFdhnR"
      },
      "execution_count": null,
      "outputs": []
    },
    {
      "cell_type": "markdown",
      "source": [
        "#5 until_not_specified_value_summurize_sequence"
      ],
      "metadata": {
        "id": "ATwBkfULWPJr"
      }
    },
    {
      "cell_type": "code",
      "source": [
        "#https://stepik.org/lesson/567037/step/6?unit=561311\n",
        "\n",
        "#Подвиг 5. На каждой итерации цикла пользователь вводит целое число. \n",
        "#Цикл продолжается, пока не встретится число 0. \n",
        "#Необходимо вычислить сумму введенных в цикле чисел и вывести результат на экран. \n",
        "#Программу реализовать при помощи цикла while.\n",
        "\n",
        "#_while_loop\n",
        "def until_not_specified_value_summurize_sequence(stop_value):\n",
        "  a=int(input())\n",
        "  i=0\n",
        "  while a!=stop_value:\n",
        "      i+=a\n",
        "      a=int(input())  \n",
        "  print(i)\n",
        "\n",
        "until_not_specified_value_summurize_sequence(55)"
      ],
      "metadata": {
        "colab": {
          "base_uri": "https://localhost:8080/"
        },
        "id": "cy3TqpajWPCk",
        "outputId": "629ab53b-e48d-4033-d65e-51410bbcab05"
      },
      "execution_count": 1,
      "outputs": [
        {
          "output_type": "stream",
          "name": "stdout",
          "text": [
            "12\n",
            "33\n",
            "55\n",
            "45\n"
          ]
        }
      ]
    },
    {
      "cell_type": "markdown",
      "source": [
        "#6 reduce_unwanted_repeating_character_in_string"
      ],
      "metadata": {
        "id": "E7lbyAwmdTTh"
      }
    },
    {
      "cell_type": "code",
      "source": [
        "#https://stepik.org/lesson/567037/step/7?unit=561311\n",
        "\n",
        "#Подвиг 6. Вводится строка (слаг). \n",
        "#Замените в этой строке все подряд идущие дефисы (--, ---, ---- и т.д.) на одинарные (-). \n",
        "#Результат преобразования строки выведите на экран. Программу реализовать при помощи цикла while.\n",
        "#Sample Input: osnovnye--metody-----slovarey\n",
        "#Sample Output: osnovnye-metody-slovarey\n",
        "\n",
        "\n",
        "x = [str(i) for i in input().split('-')]\n",
        "x_str=\" \".join(x)\n",
        "a = len(x)\n",
        "whitespaces=[i=='' for i in x]\n",
        "whitespace_count=sum(whitespaces)\n",
        "#print(whitespace_count)\n",
        "i=0\n",
        "while whitespace_count>i:\n",
        "    x.remove(\"\")\n",
        "    i+=1\n",
        "print(*x,sep='-')\n"
      ],
      "metadata": {
        "id": "UfoGgnOedTJd"
      },
      "execution_count": null,
      "outputs": []
    },
    {
      "cell_type": "markdown",
      "source": [
        "#7 numbers_of_digit_composition"
      ],
      "metadata": {
        "id": "8PTsisVcXOYL"
      }
    },
    {
      "cell_type": "code",
      "source": [
        "#https://stepik.org/lesson/567037/step/8?unit=561311\n",
        "\n",
        "#Подвиг 7. Вводится натуральное (то есть, целое положительное) число (от трехзначного и более). \n",
        "#Найти произведение всех его цифр. Результат вывести на экран. Программу реализовать при помощи цикла while.\n",
        "\n",
        "# a=input()\n",
        "# a=list(a)\n",
        "# i=0\n",
        "# summary=1\n",
        "# while len(a)>i:\n",
        "#     cur=int(a[i])\n",
        "#     summary*=cur\n",
        "#     i+=1\n",
        "# print(summary)\n",
        "\n",
        "def numbers_of_digit_composition(more_or_equal_two_digit):\n",
        "  #a=input()\n",
        "  more_or_equal_two_digit=list(str(more_or_equal_two_digit))\n",
        "  i=0\n",
        "  summary=1\n",
        "  while len(more_or_equal_two_digit)>i:\n",
        "      cur=int(more_or_equal_two_digit[i])\n",
        "      summary*=cur\n",
        "      i+=1\n",
        "  return summary\n",
        "\n",
        "\n",
        "test=[123,'123',809,'103','496',496,4444,2222222222]\n",
        "\n",
        "for i in test:\n",
        "  print( numbers_of_digit_composition(i) )"
      ],
      "metadata": {
        "colab": {
          "base_uri": "https://localhost:8080/"
        },
        "id": "qG97Q0YzXON4",
        "outputId": "886e1ef4-f92b-474e-e0a4-722564693c96"
      },
      "execution_count": 39,
      "outputs": [
        {
          "output_type": "stream",
          "name": "stdout",
          "text": [
            "6\n",
            "6\n",
            "0\n",
            "0\n",
            "216\n",
            "216\n",
            "256\n",
            "1024\n"
          ]
        }
      ]
    },
    {
      "cell_type": "markdown",
      "source": [
        "#9"
      ],
      "metadata": {
        "id": "C8PORbfrczq1"
      }
    },
    {
      "cell_type": "code",
      "source": [
        "#Подвиг 9. Одноклеточная амеба каждые 3 часа делится на 2 клетки. \n",
        "#Определить, сколько клеток будет через n часов \n",
        "#(n - целое положительное число, вводимое с клавиатуры). \n",
        "#Считать, что изначально была одна амеба. Результат вывести на экран. \n",
        "#Задачу необходимо решить с использованием цикла while.\n",
        "\n",
        "n_hours=int(input())\n",
        "timedeltha=1\n",
        "cell=1\n",
        "div_amount=2\n",
        "\n",
        "if n_hours!=0:\n",
        "  while n_hours>0:\n",
        "    if timedeltha%3==0:\n",
        "      cell=cell*div_amount\n",
        "    timedeltha+=1\n",
        "    n_hours-=1\n",
        "  print(cell)\n",
        "else:\n",
        "  print(0)"
      ],
      "metadata": {
        "id": "CCsH2PPMczb9"
      },
      "execution_count": null,
      "outputs": []
    },
    {
      "cell_type": "markdown",
      "source": [
        "#10"
      ],
      "metadata": {
        "id": "XXWsBg9rcjdf"
      }
    },
    {
      "cell_type": "code",
      "source": [
        "#Определить сумму вклада через n лет \n",
        "#(n - целое положительное число, вводимое с клавиатуры). \n",
        "#Результат округлить до сотых и вывести на экран. \n",
        "#Программу реализовать при помощи цикла while.\n",
        "\n",
        "years=int(input())\n",
        "money_value=1000\n",
        "increase=0.05\n",
        "\n",
        "while years>0:\n",
        "    money_value += money_value*increase\n",
        "    #print(money_value)\n",
        "    years-=1\n",
        "\n",
        "print(f\"{money_value:.2f}\")   "
      ],
      "metadata": {
        "colab": {
          "base_uri": "https://localhost:8080/"
        },
        "id": "e6UZeq2-cjTv",
        "outputId": "fbf25ad5-0cf5-4390-a5ab-4b8164958031"
      },
      "execution_count": 33,
      "outputs": [
        {
          "output_type": "stream",
          "name": "stdout",
          "text": [
            "5\n",
            "1276.28\n"
          ]
        }
      ]
    },
    {
      "cell_type": "markdown",
      "source": [
        "#11"
      ],
      "metadata": {
        "id": "1p8BlaQTYS5I"
      }
    },
    {
      "cell_type": "code",
      "source": [
        "#https://stepik.org/lesson/567037/step/12?unit=561311\n",
        "\n",
        "#Подвиг 11. Вводятся два натуральных четных числа n и m в одну строчку через пробел, \n",
        "#причем n < m. \n",
        "#Напечатать все нечетные числа из интервала [n, m]. \n",
        "#Задачу решить без применения условного оператора. \n",
        "#Результат вывести на экран в виде строки чисел, записанных через пробел. \n",
        "#Программу реализовать при помощи цикла while.\n",
        "\n",
        "# first, second = map(int, input().split())\n",
        "# #@Алексей_Часовников, нам в условии уточнили, что числа n и m - чётные. Цикл от n+1 до m-1 с шагом 1 - то, что нам нужно. \n",
        "# start=first+1\n",
        "# last=second\n",
        "# a\n",
        "# while start<last:\n",
        "#     print(start,end=' ')\n",
        "#     start+=2\n",
        "\n",
        "start=1\n",
        "finish=20\n",
        "statement=start%2==0\n",
        "#statement=not(statement)\n",
        "start=start+statement\n",
        "while start <=finish:\n",
        "  print(start)\n",
        "  start+=2\n"
      ],
      "metadata": {
        "colab": {
          "base_uri": "https://localhost:8080/"
        },
        "id": "HE7-pl8gYSxV",
        "outputId": "dd3b283c-ebc2-4b54-8b8e-73074818f293"
      },
      "execution_count": 32,
      "outputs": [
        {
          "output_type": "stream",
          "name": "stdout",
          "text": [
            "1\n",
            "3\n",
            "5\n",
            "7\n",
            "9\n",
            "11\n",
            "13\n",
            "15\n",
            "17\n",
            "19\n"
          ]
        }
      ]
    },
    {
      "cell_type": "markdown",
      "source": [
        "#12"
      ],
      "metadata": {
        "id": "kIl4eMeQYGVQ"
      }
    },
    {
      "cell_type": "code",
      "source": [
        "#https://stepik.org/lesson/567037/step/13?unit=561311\n",
        "\n",
        "#Подвиг 12. Составить программу поиска всех трехзначных чисел, \n",
        "#которые при делении на 47 дают в остатке 43 и кратны 3. \n",
        "#Вывести найденные числа в строчку через пробел. \n",
        "#Программу реализовать при помощи цикла while.\n",
        "\n",
        "\n",
        "i=100\n",
        "while len( str(i) )==3:\n",
        "    if i%47==43 and i%3==0:\n",
        "        print(i,end=' ')\n",
        "    i+=1"
      ],
      "metadata": {
        "id": "TFW8hBtJYGMI"
      },
      "execution_count": null,
      "outputs": []
    }
  ]
}